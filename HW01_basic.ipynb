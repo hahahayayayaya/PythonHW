{
 "cells": [
  {
   "cell_type": "markdown",
   "id": "6815956d",
   "metadata": {},
   "source": [
    "# Q1. 輸入及輸出"
   ]
  },
  {
   "cell_type": "code",
   "execution_count": 4,
   "id": "fc4f8e8e",
   "metadata": {},
   "outputs": [
    {
     "name": "stdout",
     "output_type": "stream",
     "text": [
      "請輸入現任公司名稱: 玉山\n",
      "請輸入姓名: 雯\n",
      "請輸入您的年齡: 24\n",
      "請輸入您的本行年資: 0.1\n"
     ]
    }
   ],
   "source": [
    "com_name = input(\"請輸入現任公司名稱: \")\n",
    "name = input(\"請輸入姓名: \")\n",
    "age = input(\"請輸入您的年齡: \")\n",
    "year = input(\"請輸入您的本行年資: \")"
   ]
  },
  {
   "cell_type": "code",
   "execution_count": 5,
   "id": "92faa0fd",
   "metadata": {},
   "outputs": [
    {
     "name": "stdout",
     "output_type": "stream",
     "text": [
      "雯今年24歲，目前在玉山已經0.1年了\n"
     ]
    }
   ],
   "source": [
    "print(f'{name}今年{age}歲，目前在{com_name}已經{year}年了')"
   ]
  },
  {
   "cell_type": "code",
   "execution_count": null,
   "id": "d966bbf6",
   "metadata": {},
   "outputs": [],
   "source": []
  },
  {
   "cell_type": "markdown",
   "id": "05b8fef5",
   "metadata": {},
   "source": [
    "# Q2. DATA TYPE"
   ]
  },
  {
   "cell_type": "code",
   "execution_count": 6,
   "id": "211e7cbf",
   "metadata": {},
   "outputs": [
    {
     "name": "stdout",
     "output_type": "stream",
     "text": [
      "<class 'str'>\n",
      "<class 'str'>\n",
      "<class 'str'>\n",
      "<class 'str'>\n"
     ]
    }
   ],
   "source": [
    "# 2-1.\n",
    "print(type(com_name))\n",
    "print(type(name))\n",
    "print(type(age))\n",
    "print(type(year))"
   ]
  },
  {
   "cell_type": "code",
   "execution_count": null,
   "id": "9f74650c",
   "metadata": {},
   "outputs": [],
   "source": []
  },
  {
   "cell_type": "code",
   "execution_count": 8,
   "id": "dce488f9",
   "metadata": {},
   "outputs": [
    {
     "name": "stdout",
     "output_type": "stream",
     "text": [
      "    雯\n",
      "024\n",
      "0.10\n"
     ]
    }
   ],
   "source": [
    "# 2-2.\n",
    "name = \"雯\"\n",
    "age = 24\n",
    "year = 0.1\n",
    "\n",
    "print(f'{name:>5s}')\n",
    "print(f'{age:03d}')\n",
    "print(f'{year:.2f}')"
   ]
  },
  {
   "cell_type": "code",
   "execution_count": null,
   "id": "d0b06be7",
   "metadata": {},
   "outputs": [],
   "source": []
  },
  {
   "cell_type": "code",
   "execution_count": 12,
   "id": "c45a616d",
   "metadata": {},
   "outputs": [
    {
     "name": "stdout",
     "output_type": "stream",
     "text": [
      "<class 'str'>\n",
      "<class 'str'>\n",
      "<class 'int'>\n",
      "<class 'float'>\n"
     ]
    }
   ],
   "source": [
    "# 2-3.\n",
    "print(type(com_name))\n",
    "print(type(name))\n",
    "print(type(age))\n",
    "print(type(year))"
   ]
  },
  {
   "cell_type": "code",
   "execution_count": null,
   "id": "e673de4a",
   "metadata": {},
   "outputs": [],
   "source": []
  },
  {
   "cell_type": "markdown",
   "id": "71354bfc",
   "metadata": {},
   "source": [
    "# Q3. 複利計算"
   ]
  },
  {
   "cell_type": "code",
   "execution_count": 2,
   "id": "15c16bb1",
   "metadata": {},
   "outputs": [],
   "source": [
    "year_interest = 0.015\n",
    "now_money = 50000\n",
    "n = 5"
   ]
  },
  {
   "cell_type": "code",
   "execution_count": 3,
   "id": "cc669dd9",
   "metadata": {},
   "outputs": [],
   "source": [
    "compd_interest = now_money*((1+year_interest)**n)"
   ]
  },
  {
   "cell_type": "code",
   "execution_count": 4,
   "id": "949a781e",
   "metadata": {},
   "outputs": [
    {
     "name": "stdout",
     "output_type": "stream",
     "text": [
      "53864.2\n"
     ]
    }
   ],
   "source": [
    "print(round(compd_interest, 2))"
   ]
  },
  {
   "cell_type": "code",
   "execution_count": 7,
   "id": "709b3775",
   "metadata": {},
   "outputs": [
    {
     "name": "stdout",
     "output_type": "stream",
     "text": [
      "53864.20\n"
     ]
    }
   ],
   "source": [
    "print(f'{compd_interest:.2f}')"
   ]
  },
  {
   "cell_type": "code",
   "execution_count": null,
   "id": "38e13785",
   "metadata": {},
   "outputs": [],
   "source": []
  },
  {
   "cell_type": "markdown",
   "id": "10ec8dc4",
   "metadata": {},
   "source": [
    "# Q4. 換匯"
   ]
  },
  {
   "cell_type": "code",
   "execution_count": 2,
   "id": "bc740fef",
   "metadata": {},
   "outputs": [],
   "source": [
    "seen = 'US$600000'\n",
    "dollars = seen[3:]"
   ]
  },
  {
   "cell_type": "code",
   "execution_count": 26,
   "id": "335fbcac",
   "metadata": {},
   "outputs": [
    {
     "data": {
      "text/plain": [
       "17595000.0"
      ]
     },
     "execution_count": 26,
     "metadata": {},
     "output_type": "execute_result"
    }
   ],
   "source": [
    "twd = int(dollars)*29.325\n",
    "twd"
   ]
  },
  {
   "cell_type": "code",
   "execution_count": null,
   "id": "3d02a3eb",
   "metadata": {},
   "outputs": [],
   "source": []
  },
  {
   "cell_type": "code",
   "execution_count": 17,
   "id": "8f66dcc3",
   "metadata": {},
   "outputs": [
    {
     "name": "stdout",
     "output_type": "stream",
     "text": [
      "17595000.0\n"
     ]
    }
   ],
   "source": [
    "# 延伸\n",
    "digit = []\n",
    "for i in range(len(seen)):\n",
    "    if seen[i].isdigit() == True:\n",
    "        digit.append(seen[i])\n",
    "\n",
    "print(int(\"\".join(digit))*29.325)"
   ]
  },
  {
   "cell_type": "code",
   "execution_count": null,
   "id": "ff1056c4",
   "metadata": {},
   "outputs": [],
   "source": []
  },
  {
   "cell_type": "markdown",
   "id": "eb9677b3",
   "metadata": {},
   "source": [
    "# Q5. 取出中位數"
   ]
  },
  {
   "cell_type": "code",
   "execution_count": 28,
   "id": "52aedd87",
   "metadata": {},
   "outputs": [
    {
     "data": {
      "text/plain": [
       "75"
      ]
     },
     "execution_count": 28,
     "metadata": {},
     "output_type": "execute_result"
    }
   ],
   "source": [
    "salary = [60, 90, 70, 55, 120, 88, 75]\n",
    "\n",
    "import statistics\n",
    "statistics.median(salary)"
   ]
  },
  {
   "cell_type": "code",
   "execution_count": null,
   "id": "dded7730",
   "metadata": {},
   "outputs": [],
   "source": []
  },
  {
   "cell_type": "markdown",
   "id": "c2c45cf5",
   "metadata": {},
   "source": [
    "# Q6. 計算開戶次數"
   ]
  },
  {
   "cell_type": "code",
   "execution_count": 12,
   "id": "c467abcf",
   "metadata": {},
   "outputs": [],
   "source": [
    "bank_dict = {\n",
    "    'A': ('繳費', '開戶', '開戶', '開戶', '開戶', '開戶', '開戶', '換匯', '繳費', '繳費'),\n",
    "    'B': ('繳費', '換匯', '換匯', '換匯', '繳費', '開戶', '繳費', '開戶'),\n",
    "    'C': ('繳費', '開戶', '存款', '繳費', '繳費', '繳費', '開戶', '繳費', '換匯', '存款', '繳費', '存款')\n",
    "}"
   ]
  },
  {
   "cell_type": "code",
   "execution_count": 13,
   "id": "96155e97",
   "metadata": {},
   "outputs": [
    {
     "data": {
      "text/plain": [
       "{'A': ('繳費', '開戶', '開戶', '開戶', '開戶', '開戶', '開戶', '換匯', '繳費', '繳費'),\n",
       " 'B': ('繳費', '換匯', '換匯', '換匯', '繳費', '開戶', '繳費', '開戶'),\n",
       " 'C': ('繳費', '開戶', '存款', '繳費', '繳費', '繳費', '開戶', '繳費', '換匯', '存款', '繳費', '存款')}"
      ]
     },
     "execution_count": 13,
     "metadata": {},
     "output_type": "execute_result"
    }
   ],
   "source": [
    "bank_dict"
   ]
  },
  {
   "cell_type": "code",
   "execution_count": 20,
   "id": "de09a6bf",
   "metadata": {},
   "outputs": [
    {
     "name": "stdout",
     "output_type": "stream",
     "text": [
      "[6, 2, 2]\n"
     ]
    }
   ],
   "source": [
    "# ans.\n",
    "total = []\n",
    "for i in bank_dict:\n",
    "    counts = bank_dict.get(i)\n",
    "    total.append(counts.count('開戶'))\n",
    "print(total)"
   ]
  },
  {
   "cell_type": "code",
   "execution_count": null,
   "id": "bd198971",
   "metadata": {},
   "outputs": [],
   "source": []
  },
  {
   "cell_type": "markdown",
   "id": "460a81a7",
   "metadata": {},
   "source": [
    "# Q7. 取交集"
   ]
  },
  {
   "cell_type": "code",
   "execution_count": 30,
   "id": "375365bc",
   "metadata": {},
   "outputs": [],
   "source": [
    "sales1 = ['C594', 'C449', 'C887', 'C126', 'C468', 'C258', 'C221', 'C505', 'C714'] \n",
    "sales2 = ['C313', 'C714', 'C286', 'C432', 'C666', 'C356', 'C855', 'C476', 'C126', 'C643', 'C926'] \n",
    "sales3 = ['C193', 'C941', 'C126', 'C590', 'C414', 'C065', 'C714']"
   ]
  },
  {
   "cell_type": "code",
   "execution_count": 34,
   "id": "36045793",
   "metadata": {},
   "outputs": [
    {
     "data": {
      "text/plain": [
       "{'C126', 'C714'}"
      ]
     },
     "execution_count": 34,
     "metadata": {},
     "output_type": "execute_result"
    }
   ],
   "source": [
    "set(sales1) & set(sales2) & set(sales3)"
   ]
  },
  {
   "cell_type": "code",
   "execution_count": null,
   "id": "7e56753e",
   "metadata": {},
   "outputs": [],
   "source": []
  },
  {
   "cell_type": "markdown",
   "id": "172d744d",
   "metadata": {},
   "source": [
    "# Q8. 計算手機撥打次數"
   ]
  },
  {
   "cell_type": "code",
   "execution_count": 18,
   "id": "5ffe7b0e",
   "metadata": {},
   "outputs": [],
   "source": [
    "phonecall = ['0914514126', '0993623819', '0992850648', '0954365410', '03-6949000', '0985512914', '0935770139', '0912852813', '0944987869', '0980685204', '03-5542615', '02-6338673', '02-1076622', '02-6832691', '0951859556', '03-3574856', '02-6531810', '0911563100', '03-3489073', '0902918795', '02-3517886', '03-1668413', '0902197860', '0924682908', '02-6027277', '02-1363389', '03-0842909', '02-0843773', '0971153647', '0919904753', '03-2139859', '0961695665', '02-7073674', '0954628414', '02-4627660', '03-1410712', '03-3826513', '02-2998016', '02-7993017', '0911607501', '03-7912519', '0914875480', '0916711466', '0919436315', '02-7777202', '03-9676001', '0942708276', '02-2793450', '0991317284', '0978271573', '03-8860927', '02-7575368', '02-0799818']"
   ]
  },
  {
   "cell_type": "code",
   "execution_count": 22,
   "id": "fb1d3c66",
   "metadata": {},
   "outputs": [
    {
     "data": {
      "text/plain": [
       "25"
      ]
     },
     "execution_count": 22,
     "metadata": {},
     "output_type": "execute_result"
    }
   ],
   "source": [
    "# ans.\n",
    "matching = [s for s in phonecall if \"09\" in s[0:2]]\n",
    "len(matching)"
   ]
  },
  {
   "cell_type": "markdown",
   "id": "95bcc3af",
   "metadata": {},
   "source": []
  },
  {
   "cell_type": "code",
   "execution_count": null,
   "id": "258b00c9",
   "metadata": {},
   "outputs": [],
   "source": [
    "# mine"
   ]
  },
  {
   "cell_type": "code",
   "execution_count": 32,
   "id": "064003f8",
   "metadata": {},
   "outputs": [
    {
     "name": "stdout",
     "output_type": "stream",
     "text": [
      "25\n"
     ]
    }
   ],
   "source": [
    "# 延伸\n",
    "call_num = 0\n",
    "for i in range(len(phonecall)):\n",
    "    first_two = phonecall[i][0:2] == '09'\n",
    "    \n",
    "    if first_two == True:\n",
    "        call_num += 1\n",
    "\n",
    "print(call_num)"
   ]
  },
  {
   "cell_type": "code",
   "execution_count": null,
   "id": "61f7200c",
   "metadata": {},
   "outputs": [],
   "source": []
  },
  {
   "cell_type": "markdown",
   "id": "7a93c71c",
   "metadata": {},
   "source": [
    "# Q9. 判斷質數"
   ]
  },
  {
   "cell_type": "code",
   "execution_count": 33,
   "id": "21f2d57e",
   "metadata": {},
   "outputs": [],
   "source": [
    "def is_prime(num):\n",
    "    if num == 2:\n",
    "        return True\n",
    "    \n",
    "    for i in range(2, num):\n",
    "        if num % i == 0:\n",
    "            return False\n",
    "        else:\n",
    "            return True"
   ]
  },
  {
   "cell_type": "code",
   "execution_count": 38,
   "id": "5cf88972",
   "metadata": {
    "scrolled": false
   },
   "outputs": [
    {
     "name": "stdout",
     "output_type": "stream",
     "text": [
      "2\n",
      "True\n"
     ]
    }
   ],
   "source": [
    "num = int(input())\n",
    "print(is_prime(num))"
   ]
  },
  {
   "cell_type": "code",
   "execution_count": null,
   "id": "0943f964",
   "metadata": {},
   "outputs": [],
   "source": []
  },
  {
   "cell_type": "code",
   "execution_count": 44,
   "id": "f87aed0d",
   "metadata": {},
   "outputs": [],
   "source": [
    "# 延伸\n",
    "def is_prime(num):\n",
    "    for i in range(2, int(num ** 0.5)+1):\n",
    "        if num % i == 0:\n",
    "            return False\n",
    "    return True"
   ]
  },
  {
   "cell_type": "code",
   "execution_count": 48,
   "id": "fae5acd1",
   "metadata": {},
   "outputs": [
    {
     "name": "stdout",
     "output_type": "stream",
     "text": [
      "17\n",
      "True\n"
     ]
    }
   ],
   "source": [
    "num = int(input())\n",
    "print(is_prime(num))"
   ]
  },
  {
   "cell_type": "code",
   "execution_count": null,
   "id": "23ff8de7",
   "metadata": {},
   "outputs": [],
   "source": []
  },
  {
   "cell_type": "markdown",
   "id": "b9c341b0",
   "metadata": {},
   "source": [
    "# Q10. 倍數顯示文字"
   ]
  },
  {
   "cell_type": "code",
   "execution_count": 97,
   "id": "57b1951c",
   "metadata": {},
   "outputs": [
    {
     "name": "stdout",
     "output_type": "stream",
     "text": [
      "1\n",
      "2\n",
      "Bingo!\n",
      "4\n",
      "Awesome!\n",
      "Bingo!\n",
      "7\n",
      "8\n",
      "Bingo!\n",
      "Awesome!\n",
      "11\n",
      "Bingo!\n",
      "13\n",
      "14\n",
      "Gotcha!\n",
      "16\n",
      "17\n",
      "Bingo!\n",
      "19\n",
      "Awesome!\n",
      "Bingo!\n",
      "22\n",
      "23\n",
      "Bingo!\n",
      "Awesome!\n",
      "26\n",
      "Bingo!\n",
      "28\n",
      "29\n",
      "Gotcha!\n",
      "31\n",
      "32\n",
      "Bingo!\n",
      "34\n",
      "Awesome!\n",
      "Bingo!\n",
      "37\n",
      "38\n",
      "Bingo!\n",
      "Awesome!\n",
      "41\n",
      "Bingo!\n",
      "43\n",
      "44\n",
      "Gotcha!\n",
      "46\n",
      "47\n",
      "Bingo!\n",
      "49\n",
      "Awesome!\n",
      "Bingo!\n",
      "52\n",
      "53\n",
      "Bingo!\n",
      "Awesome!\n",
      "56\n",
      "Bingo!\n",
      "58\n",
      "59\n",
      "Gotcha!\n",
      "61\n",
      "62\n",
      "Bingo!\n",
      "64\n",
      "Awesome!\n",
      "Bingo!\n",
      "67\n",
      "68\n",
      "Bingo!\n",
      "Awesome!\n",
      "71\n",
      "Bingo!\n",
      "73\n",
      "74\n",
      "Gotcha!\n",
      "76\n",
      "77\n",
      "Bingo!\n",
      "79\n",
      "Awesome!\n",
      "Bingo!\n",
      "82\n",
      "83\n",
      "Bingo!\n",
      "Awesome!\n",
      "86\n",
      "Bingo!\n",
      "88\n",
      "89\n",
      "Gotcha!\n",
      "91\n",
      "92\n",
      "Bingo!\n",
      "94\n",
      "Awesome!\n",
      "Bingo!\n",
      "97\n",
      "98\n",
      "Bingo!\n",
      "Awesome!\n"
     ]
    }
   ],
   "source": [
    "for i in range(1, 101):\n",
    "    if i % 15 == 0:\n",
    "        print(\"Gotcha!\")\n",
    "    elif i % 3 == 0:\n",
    "        print(\"Bingo!\")\n",
    "    elif i % 5 == 0:\n",
    "        print(\"Awesome!\")\n",
    "    else:\n",
    "        print(i)"
   ]
  },
  {
   "cell_type": "code",
   "execution_count": null,
   "id": "d7b96316",
   "metadata": {},
   "outputs": [],
   "source": []
  },
  {
   "cell_type": "markdown",
   "id": "80c29625",
   "metadata": {},
   "source": [
    "# Q11. 設計會員輸入函式"
   ]
  },
  {
   "cell_type": "code",
   "execution_count": 24,
   "id": "3a438eb3",
   "metadata": {},
   "outputs": [],
   "source": [
    "def check(name, phone):\n",
    "    if isinstance(name, str) == False:\n",
    "        print(\"名稱非字串\")\n",
    "        return False\n",
    "    \n",
    "    if phone[0:2] != '09':\n",
    "        print(\"非手機號碼\")\n",
    "        return False\n",
    "        \n",
    "    if len(phone) != 10:\n",
    "        print(\"手機非10碼\")\n",
    "        return False\n",
    "    \n",
    "    return True"
   ]
  },
  {
   "cell_type": "code",
   "execution_count": 25,
   "id": "b6579e81",
   "metadata": {},
   "outputs": [],
   "source": [
    "def create(name, phone):\n",
    "    member_dict = {'name': name, 'phone': phone}\n",
    "    return member_dict"
   ]
  },
  {
   "cell_type": "code",
   "execution_count": 29,
   "id": "948cfb2c",
   "metadata": {},
   "outputs": [
    {
     "name": "stdout",
     "output_type": "stream",
     "text": [
      "輸入名稱: 雯\n",
      "輸入手機: 0938721101\n",
      "繼續輸入?(y/n)n\n",
      "{'20220824092505_62058': {'name': '雯', 'phone': '0938721101'}}\n"
     ]
    }
   ],
   "source": [
    "import random\n",
    "import datetime\n",
    "\n",
    "all_member_dict = {}\n",
    "\n",
    "while True:\n",
    "    name1 = input(\"輸入名稱: \")\n",
    "    phone1 = input(\"輸入手機: \")\n",
    "    \n",
    "    if check(name1, phone1):\n",
    "        member_dict = create(name1, phone1)\n",
    "        \n",
    "        d = datetime.datetime.today().strftime(\"%Y%m%d%H%M%S\")\n",
    "        n = \"%05d\" % random.randint(0, 99999)\n",
    "        #n = random.randint(0, 99999)\n",
    "        mem_id = str(d) + '_' + str(n)\n",
    "        \n",
    "        all_member_dict[mem_id] = member_dict\n",
    "    \n",
    "    con = input(\"繼續輸入?(y/n)\")\n",
    "    if con != 'y':\n",
    "        break        \n",
    "        \n",
    "print(all_member_dict)\n",
    "        "
   ]
  },
  {
   "cell_type": "code",
   "execution_count": null,
   "id": "02477ac2",
   "metadata": {},
   "outputs": [],
   "source": []
  },
  {
   "cell_type": "markdown",
   "id": "f39330a6",
   "metadata": {},
   "source": [
    "# Q12. 金字塔"
   ]
  },
  {
   "cell_type": "code",
   "execution_count": 9,
   "id": "038eeb60",
   "metadata": {},
   "outputs": [],
   "source": [
    "# isinstance: check if the number is an integer\n",
    "\n",
    "def gold(n):\n",
    "    if isinstance(n, int) and n > 0:\n",
    "        for i in range(1, n+1):\n",
    "            howmany = 2*i-1\n",
    "            print(\" \"*(n-i) + \"*\"*howmany, end = \"\\n\")\n",
    "    else:\n",
    "        raise Exception(\"輸入錯誤\")"
   ]
  },
  {
   "cell_type": "code",
   "execution_count": 10,
   "id": "f95eb7c1",
   "metadata": {},
   "outputs": [
    {
     "name": "stdout",
     "output_type": "stream",
     "text": [
      "Input: n = 6\n",
      "     *\n",
      "    ***\n",
      "   *****\n",
      "  *******\n",
      " *********\n",
      "***********\n"
     ]
    }
   ],
   "source": [
    "n = int(input(\"Input: n = \"))\n",
    "gold(n)"
   ]
  },
  {
   "cell_type": "code",
   "execution_count": null,
   "id": "c455dbcd",
   "metadata": {},
   "outputs": [],
   "source": []
  }
 ],
 "metadata": {
  "kernelspec": {
   "display_name": "Python 3 (ipykernel)",
   "language": "python",
   "name": "python3"
  },
  "language_info": {
   "codemirror_mode": {
    "name": "ipython",
    "version": 3
   },
   "file_extension": ".py",
   "mimetype": "text/x-python",
   "name": "python",
   "nbconvert_exporter": "python",
   "pygments_lexer": "ipython3",
   "version": "3.9.7"
  },
  "toc": {
   "base_numbering": 1,
   "nav_menu": {},
   "number_sections": true,
   "sideBar": true,
   "skip_h1_title": false,
   "title_cell": "Table of Contents",
   "title_sidebar": "Contents",
   "toc_cell": false,
   "toc_position": {
    "height": "calc(100% - 180px)",
    "left": "10px",
    "top": "150px",
    "width": "341.319px"
   },
   "toc_section_display": true,
   "toc_window_display": true
  }
 },
 "nbformat": 4,
 "nbformat_minor": 5
}
